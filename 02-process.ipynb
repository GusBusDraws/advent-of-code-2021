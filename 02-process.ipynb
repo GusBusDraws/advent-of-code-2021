{
 "cells": [
  {
   "cell_type": "markdown",
   "metadata": {},
   "source": [
    "# --- Day 02: Dive! ---\n",
    "# --- Part One ---\n",
    "Now, you need to figure out how to pilot this thing.\n",
    "\n",
    "It seems like the submarine can take a series of commands like forward 1, down 2, or up 3:\n",
    "\n",
    "- forward X increases the horizontal position by X units.\n",
    "- down X increases the depth by X units.\n",
    "- up X decreases the depth by X units.\n",
    "\n",
    "Note that since you're on a submarine, down and up affect your depth, and so they have the opposite result of what you might expect.\n",
    "\n",
    "The submarine seems to already have a planned course (your puzzle input). You should probably figure out where it's going. For example:\n",
    "```\n",
    "forward 5\n",
    "down 5\n",
    "forward 8\n",
    "up 3\n",
    "down 8\n",
    "forward 2\n",
    "```\n",
    "Your horizontal position and depth both start at 0. The steps above would then modify them as follows:\n",
    "\n",
    "- forward 5 adds 5 to your horizontal position, a total of 5.\n",
    "- down 5 adds 5 to your depth, resulting in a value of 5.\n",
    "- forward 8 adds 8 to your horizontal position, a total of 13.\n",
    "- up 3 decreases your depth by 3, resulting in a value of 2.\n",
    "- down 8 adds 8 to your depth, resulting in a value of 10.\n",
    "- forward 2 adds 2 to your horizontal position, a total of 15.\n",
    "\n",
    "After following these instructions, you would have a horizontal position of 15 and a depth of 10. (Multiplying these together produces 150.)\n",
    "\n",
    "Calculate the horizontal position and depth you would have after following the planned course. **What do you get if you multiply your final horizontal position by your final depth?**"
   ]
  },
  {
   "cell_type": "markdown",
   "metadata": {},
   "source": [
    "## Process"
   ]
  },
  {
   "cell_type": "code",
   "execution_count": null,
   "metadata": {},
   "outputs": [
    {
     "name": "stdout",
     "output_type": "stream",
     "text": [
      "len(input)=1000\n",
      "input[0]='forward 2'\n"
     ]
    }
   ],
   "source": [
    "input = [line[:-1] for line in open('02-input.txt').readlines()]\n",
    "print(f'{len(input)=}')\n",
    "print(f'{input[0]=}')"
   ]
  },
  {
   "cell_type": "code",
   "execution_count": 7,
   "metadata": {},
   "outputs": [
    {
     "data": {
      "text/plain": [
       "True"
      ]
     },
     "execution_count": 7,
     "metadata": {},
     "output_type": "execute_result"
    }
   ],
   "source": [
    "input[0].startswith('forward')"
   ]
  },
  {
   "cell_type": "code",
   "execution_count": 9,
   "metadata": {},
   "outputs": [
    {
     "name": "stdout",
     "output_type": "stream",
     "text": [
      "int(input[0][8:])=2\n",
      "type(int(input[0][8:]))=<class 'int'>\n"
     ]
    }
   ],
   "source": [
    "if input[0].startswith('forward'):\n",
    "    print(f'{int(input[0][8:])=}')\n",
    "    print(f'{type(int(input[0][8:]))=}')"
   ]
  },
  {
   "cell_type": "code",
   "execution_count": 13,
   "metadata": {},
   "outputs": [
    {
     "name": "stdout",
     "output_type": "stream",
     "text": [
      "horiz=1970\n",
      "depth=916\n",
      "Product: 1804520\n"
     ]
    }
   ],
   "source": [
    "horiz = 0\n",
    "depth = 0\n",
    "for dir_string in [line[:-1] for line in open('02-input.txt').readlines()]:\n",
    "    if dir_string.startswith('forward'):\n",
    "        horiz += int(dir_string[8:])\n",
    "    elif dir_string.startswith('down'):\n",
    "        depth += int(dir_string[5:])\n",
    "    elif dir_string.startswith('up'):\n",
    "        depth -= int(dir_string[3:])\n",
    "print(f'{horiz=}')\n",
    "print(f'{depth=}')\n",
    "print(f'Product: {horiz * depth}')"
   ]
  },
  {
   "cell_type": "markdown",
   "metadata": {},
   "source": [
    "## Solution"
   ]
  },
  {
   "cell_type": "code",
   "execution_count": 16,
   "metadata": {},
   "outputs": [
    {
     "name": "stdout",
     "output_type": "stream",
     "text": [
      "Answer: 1804520\n"
     ]
    }
   ],
   "source": [
    "horiz = 0\n",
    "depth = 0\n",
    "for dir_string in [line[:-1] for line in open('02-input.txt').readlines()]:\n",
    "    if dir_string.startswith('forward'):\n",
    "        horiz += int(dir_string[8:])\n",
    "    elif dir_string.startswith('down'):\n",
    "        depth += int(dir_string[5:])\n",
    "    elif dir_string.startswith('up'):\n",
    "        depth -= int(dir_string[3:])\n",
    "print(f'Answer: {horiz * depth}')"
   ]
  }
 ],
 "metadata": {
  "interpreter": {
   "hash": "1306c7966c5b96762b343d2f730514ade6724c2b2d933b4300f3eab56046fc91"
  },
  "kernelspec": {
   "display_name": "Python 3.9.5 64-bit (system)",
   "language": "python",
   "name": "python3"
  },
  "language_info": {
   "codemirror_mode": {
    "name": "ipython",
    "version": 3
   },
   "file_extension": ".py",
   "mimetype": "text/x-python",
   "name": "python",
   "nbconvert_exporter": "python",
   "pygments_lexer": "ipython3",
   "version": "3.9.5"
  },
  "orig_nbformat": 4
 },
 "nbformat": 4,
 "nbformat_minor": 2
}
