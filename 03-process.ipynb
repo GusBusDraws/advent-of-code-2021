{
 "cells": [
  {
   "cell_type": "markdown",
   "metadata": {},
   "source": [
    "# --- Day 3: Binary Diagnostic ---\n",
    "The submarine has been making some odd creaking noises, so you ask it to produce a diagnostic report just in case.\n",
    "\n",
    "The diagnostic report (your puzzle input) consists of a list of binary numbers which, when decoded properly, can tell you many useful things about the conditions of the submarine. The first parameter to check is the power consumption.\n",
    "\n",
    "You need to use the binary numbers in the diagnostic report to generate two new binary numbers (called the gamma rate and the epsilon rate). The power consumption can then be found by multiplying the gamma rate by the epsilon rate.\n",
    "\n",
    "Each bit in the gamma rate can be determined by finding the most common bit in the corresponding position of all numbers in the diagnostic report. For example, given the following diagnostic report:\n",
    "```\n",
    "00100\n",
    "11110\n",
    "10110\n",
    "10111\n",
    "10101\n",
    "01111\n",
    "00111\n",
    "11100\n",
    "10000\n",
    "11001\n",
    "00010\n",
    "01010\n",
    "```\n",
    "Considering only the first bit of each number, there are five 0 bits and seven 1 bits. Since the most common bit is 1, the first bit of the gamma rate is 1.\n",
    "\n",
    "The most common second bit of the numbers in the diagnostic report is 0, so the second bit of the gamma rate is 0.\n",
    "\n",
    "The most common value of the third, fourth, and fifth bits are 1, 1, and 0, respectively, and so the final three bits of the gamma rate are 110.\n",
    "\n",
    "So, the gamma rate is the binary number 10110, or 22 in decimal.\n",
    "\n",
    "The epsilon rate is calculated in a similar way; rather than use the most common bit, the least common bit from each position is used. So, the epsilon rate is 01001, or 9 in decimal. Multiplying the gamma rate (22) by the epsilon rate (9) produces the power consumption, 198.\n",
    "\n",
    "Use the binary numbers in your diagnostic report to calculate the gamma rate and epsilon rate, then multiply them together. **What is the power consumption of the submarine?** (Be sure to represent your answer in decimal, not binary.)"
   ]
  },
  {
   "cell_type": "markdown",
   "metadata": {},
   "source": [
    "# --- Part One ---"
   ]
  },
  {
   "cell_type": "markdown",
   "metadata": {},
   "source": [
    "## Process"
   ]
  },
  {
   "cell_type": "code",
   "execution_count": 1,
   "metadata": {},
   "outputs": [
    {
     "name": "stdout",
     "output_type": "stream",
     "text": [
      "len(bits_list)=1000\n",
      "bits_list[0]='111100101100'\n",
      "len(bits_list[0])=12\n"
     ]
    }
   ],
   "source": [
    "bits_list = [line[:-1] for line in open('03-input.txt').readlines()]\n",
    "print(f'{len(bits_list)=}')\n",
    "print(f'{bits_list[0]=}')\n",
    "print(f'{len(bits_list[0])=}')"
   ]
  },
  {
   "cell_type": "code",
   "execution_count": 2,
   "metadata": {},
   "outputs": [
    {
     "data": {
      "text/plain": [
       "'001'"
      ]
     },
     "execution_count": 2,
     "metadata": {},
     "output_type": "execute_result"
    }
   ],
   "source": [
    "test = '00'\n",
    "test += '1'\n",
    "test"
   ]
  },
  {
   "cell_type": "code",
   "execution_count": 3,
   "metadata": {},
   "outputs": [
    {
     "data": {
      "text/plain": [
       "4"
      ]
     },
     "execution_count": 3,
     "metadata": {},
     "output_type": "execute_result"
    }
   ],
   "source": [
    "int('0100', 2)"
   ]
  },
  {
   "cell_type": "code",
   "execution_count": 4,
   "metadata": {},
   "outputs": [
    {
     "name": "stdout",
     "output_type": "stream",
     "text": [
      "power_bits='000011011010'\n",
      "int(power_bits, 2)=218\n",
      "epsilon_bits='111100100101'\n",
      "int(epsilon_bits, 2)=3877\n"
     ]
    }
   ],
   "source": [
    "n_bits = len(bits_list[0])\n",
    "power_bits = ''\n",
    "epsilon_bits = ''\n",
    "for i in range(n_bits):\n",
    "    bits_avg = sum([int(bits[i]) for bits in bits_list]) / len(bits_list)\n",
    "    if bits_avg < 0.5:\n",
    "        power_bits += '0'\n",
    "        epsilon_bits += '1'\n",
    "    elif bits_avg > 0.5: \n",
    "        power_bits += '1'\n",
    "        epsilon_bits += '0'\n",
    "    else:\n",
    "        print(f'Average of bit {i}: 0.5')\n",
    "print(f'{power_bits=}') \n",
    "print(f'{int(power_bits, 2)=}') \n",
    "print(f'{epsilon_bits=}') \n",
    "print(f'{int(epsilon_bits, 2)=}') "
   ]
  },
  {
   "cell_type": "markdown",
   "metadata": {},
   "source": [
    "## Solution"
   ]
  },
  {
   "cell_type": "code",
   "execution_count": 5,
   "metadata": {},
   "outputs": [
    {
     "name": "stdout",
     "output_type": "stream",
     "text": [
      "Answer: 845186\n"
     ]
    }
   ],
   "source": [
    "bits_list = [line[:-1] for line in open('03-input.txt').readlines()]\n",
    "n_bits = len(bits_list[0])\n",
    "power_bits = ''\n",
    "epsilon_bits = ''\n",
    "for i in range(n_bits):\n",
    "    bits_avg = sum([int(bits[i]) for bits in bits_list]) / len(bits_list)\n",
    "    if bits_avg < 0.5:\n",
    "        power_bits += '0'\n",
    "        epsilon_bits += '1'\n",
    "    else:\n",
    "        power_bits += '1'\n",
    "        epsilon_bits += '0'\n",
    "power = int(power_bits, 2)\n",
    "epsilon = int(epsilon_bits, 2)\n",
    "print(f'Answer: {power * epsilon}')"
   ]
  },
  {
   "cell_type": "markdown",
   "metadata": {},
   "source": [
    "# --- Part Two ---"
   ]
  },
  {
   "cell_type": "markdown",
   "metadata": {},
   "source": [
    "Next, you should verify the life support rating, which can be determined by multiplying the oxygen generator rating by the CO2 scrubber rating.\n",
    "\n",
    "Both the oxygen generator rating and the CO2 scrubber rating are values that can be found in your diagnostic report - finding them is the tricky part. Both values are located using a similar process that involves filtering out values until only one remains. Before searching for either rating value, start with the full list of binary numbers from your diagnostic report and consider just the first bit of those numbers. Then:\n",
    "\n",
    "- Keep only numbers selected by the bit criteria for the type of rating value for which you are searching. Discard numbers which do not match the bit criteria.\n",
    "- If you only have one number left, stop; this is the rating value for which you are searching.\n",
    "- Otherwise, repeat the process, considering the next bit to the right.\n",
    "\n",
    "The bit criteria depends on which type of rating value you want to find:\n",
    "\n",
    "- To find oxygen generator rating, determine the most common value (0 or 1) in the current bit position, and keep only numbers with that bit in that position. If 0 and 1 are equally common, keep values with a 1 in the position being considered.\n",
    "- To find CO2 scrubber rating, determine the least common value (0 or 1) in the current bit position, and keep only numbers with that bit in that position. If 0 and 1 are equally common, keep values with a 0 in the position being considered.\n",
    "\n",
    "For example, to determine the oxygen generator rating value using the same example diagnostic report from above:\n",
    "\n",
    "- Start with all 12 numbers and consider only the first bit of each number. There are more 1 bits (7) than 0 bits (5), so keep only the 7 numbers with a 1 in the first position: 11110, 10110, 10111, 10101, 11100, 10000, and 11001.\n",
    "- Then, consider the second bit of the 7 remaining numbers: there are more 0 bits (4) than 1 bits (3), so keep only the 4 numbers with a 0 in the second position: 10110, 10111, 10101, and 10000.\n",
    "- In the third position, three of the four numbers have a 1, so keep those three: 10110, 10111, and 10101.\n",
    "- In the fourth position, two of the three numbers have a 1, so keep those two: 10110 and 10111.\n",
    "- In the fifth position, there are an equal number of 0 bits and 1 bits (one each). So, to find the oxygen generator rating, keep the number with a 1 in that position: 10111.\n",
    "- As there is only one number left, stop; the oxygen generator rating is 10111, or 23 in decimal.\n",
    "\n",
    "Then, to determine the CO2 scrubber rating value from the same example above:\n",
    "\n",
    "- Start again with all 12 numbers and consider only the first bit of each number. There are fewer 0 bits (5) than 1 bits (7), so keep only the 5 numbers with a 0 in the first position: 00100, 01111, 00111, 00010, and 01010.\n",
    "- Then, consider the second bit of the 5 remaining numbers: there are fewer 1 bits (2) than 0 bits (3), so keep only the 2 numbers with a 1 in the second position: 01111 and 01010.\n",
    "- In the third position, there are an equal number of 0 bits and 1 bits (one each). So, to find the CO2 scrubber rating, keep the number with a 0 in that position: 01010.\n",
    "- As there is only one number left, stop; the CO2 scrubber rating is 01010, or 10 in decimal.\n",
    "- Finally, to find the life support rating, multiply the oxygen generator rating (23) by the CO2 scrubber rating (10) to get 230.\n",
    "\n",
    "Use the binary numbers in your diagnostic report to calculate the oxygen generator rating and CO2 scrubber rating, then multiply them together. What is the life support rating of the submarine? (Be sure to represent your answer in decimal, not binary.) "
   ]
  },
  {
   "cell_type": "markdown",
   "metadata": {},
   "source": [
    "## Process"
   ]
  },
  {
   "cell_type": "code",
   "execution_count": 38,
   "metadata": {},
   "outputs": [],
   "source": [
    "def filter_bits(bit_i, bits_list, common_val='most'):\n",
    "    avg = sum([int(bits[bit_i]) for bits in bits_list]) / len(bits_list)\n",
    "    if common_val == 'most':\n",
    "        return [\n",
    "            bits for bits in bits_list \n",
    "            if (\n",
    "                (avg > 0.5 and bits[bit_i] == '1') \n",
    "                or (avg < 0.5 and bits[bit_i] == '0') \n",
    "                or (avg == 0.5 and bits[bit_i] == '1')\n",
    "            )\n",
    "        ]\n",
    "    elif common_val == 'least':\n",
    "        return [\n",
    "            bits for bits in bits_list \n",
    "            if (\n",
    "                (avg > 0.5 and bits[bit_i] == '0') \n",
    "                or (avg < 0.5 and bits[bit_i] == '1') \n",
    "                or (avg == 0.5 and bits[bit_i] == '0')\n",
    "            )\n",
    "        ]"
   ]
  },
  {
   "cell_type": "code",
   "execution_count": 44,
   "metadata": {},
   "outputs": [],
   "source": [
    "def get_life_support(bits_list, verbose=False):\n",
    "    ox_gen = bits_list.copy()\n",
    "    i = 0\n",
    "    while len(ox_gen) > 1:\n",
    "        ox_gen = filter_bits(i, ox_gen, common_val='most')\n",
    "        i += 1\n",
    "    co2_scrub = bits_list.copy()\n",
    "    i = 0\n",
    "    while len(co2_scrub) > 1:\n",
    "        co2_scrub = filter_bits(i, co2_scrub, common_val='least')\n",
    "        i += 1\n",
    "    if verbose:\n",
    "        print(f'{ox_gen=}')\n",
    "        print(f'{co2_scrub=}')\n",
    "    return int(ox_gen[0], 2) * int(co2_scrub[0], 2)"
   ]
  },
  {
   "cell_type": "code",
   "execution_count": 18,
   "metadata": {},
   "outputs": [],
   "source": [
    "bits_test_list = [\n",
    "    '00100',\n",
    "    '11110',\n",
    "    '10110',\n",
    "    '10111',\n",
    "    '10101',\n",
    "    '01111',\n",
    "    '00111',\n",
    "    '11100',\n",
    "    '10000',\n",
    "    '11001',\n",
    "    '00010',\n",
    "    '01010'\n",
    "]"
   ]
  },
  {
   "cell_type": "code",
   "execution_count": 45,
   "metadata": {},
   "outputs": [
    {
     "name": "stdout",
     "output_type": "stream",
     "text": [
      "ox_gen=['10111']\n",
      "co2_scrub=['01010']\n"
     ]
    },
    {
     "data": {
      "text/plain": [
       "230"
      ]
     },
     "execution_count": 45,
     "metadata": {},
     "output_type": "execute_result"
    }
   ],
   "source": [
    "get_life_support(bits_test_list, verbose=True) "
   ]
  },
  {
   "cell_type": "markdown",
   "metadata": {},
   "source": [
    "# Solution"
   ]
  },
  {
   "cell_type": "code",
   "execution_count": 46,
   "metadata": {},
   "outputs": [
    {
     "name": "stdout",
     "output_type": "stream",
     "text": [
      "Answer:\n"
     ]
    },
    {
     "data": {
      "text/plain": [
       "4636702"
      ]
     },
     "execution_count": 46,
     "metadata": {},
     "output_type": "execute_result"
    }
   ],
   "source": [
    "def filter_bits(bit_i, bits_list, common_val='most'):\n",
    "    avg = sum([int(bits[bit_i]) for bits in bits_list]) / len(bits_list)\n",
    "    if common_val == 'most':\n",
    "        return [\n",
    "            bits for bits in bits_list \n",
    "            if (\n",
    "                (avg > 0.5 and bits[bit_i] == '1') \n",
    "                or (avg < 0.5 and bits[bit_i] == '0') \n",
    "                or (avg == 0.5 and bits[bit_i] == '1')\n",
    "            )\n",
    "        ]\n",
    "    elif common_val == 'least':\n",
    "        return [\n",
    "            bits for bits in bits_list \n",
    "            if (\n",
    "                (avg > 0.5 and bits[bit_i] == '0') \n",
    "                or (avg < 0.5 and bits[bit_i] == '1') \n",
    "                or (avg == 0.5 and bits[bit_i] == '0')\n",
    "            )\n",
    "        ]\n",
    "\n",
    "def get_life_support(bits_list, verbose=False):\n",
    "    ox_gen = bits_list.copy()\n",
    "    i = 0\n",
    "    while len(ox_gen) > 1:\n",
    "        ox_gen = filter_bits(i, ox_gen, common_val='most')\n",
    "        i += 1\n",
    "    co2_scrub = bits_list.copy()\n",
    "    i = 0\n",
    "    while len(co2_scrub) > 1:\n",
    "        co2_scrub = filter_bits(i, co2_scrub, common_val='least')\n",
    "        i += 1\n",
    "    if verbose:\n",
    "        print(f'{ox_gen=}')\n",
    "        print(f'{co2_scrub=}')\n",
    "    return int(ox_gen[0], 2) * int(co2_scrub[0], 2)\n",
    "\n",
    "bits_list = [line[:-1] for line in open('03-input.txt').readlines()]\n",
    "print('Answer:')\n",
    "get_life_support(bits_list)"
   ]
  }
 ],
 "metadata": {
  "interpreter": {
   "hash": "1306c7966c5b96762b343d2f730514ade6724c2b2d933b4300f3eab56046fc91"
  },
  "kernelspec": {
   "display_name": "Python 3.9.5 64-bit (system)",
   "language": "python",
   "name": "python3"
  },
  "language_info": {
   "codemirror_mode": {
    "name": "ipython",
    "version": 3
   },
   "file_extension": ".py",
   "mimetype": "text/x-python",
   "name": "python",
   "nbconvert_exporter": "python",
   "pygments_lexer": "ipython3",
   "version": "3.9.5"
  },
  "orig_nbformat": 4
 },
 "nbformat": 4,
 "nbformat_minor": 2
}
