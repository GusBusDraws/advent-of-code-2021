{
 "cells": [
  {
   "cell_type": "markdown",
   "metadata": {},
   "source": [
    "# --- Day 3: Binary Diagnostic ---\n",
    "The submarine has been making some odd creaking noises, so you ask it to produce a diagnostic report just in case.\n",
    "\n",
    "The diagnostic report (your puzzle input) consists of a list of binary numbers which, when decoded properly, can tell you many useful things about the conditions of the submarine. The first parameter to check is the power consumption.\n",
    "\n",
    "You need to use the binary numbers in the diagnostic report to generate two new binary numbers (called the gamma rate and the epsilon rate). The power consumption can then be found by multiplying the gamma rate by the epsilon rate.\n",
    "\n",
    "Each bit in the gamma rate can be determined by finding the most common bit in the corresponding position of all numbers in the diagnostic report. For example, given the following diagnostic report:\n",
    "```\n",
    "00100\n",
    "11110\n",
    "10110\n",
    "10111\n",
    "10101\n",
    "01111\n",
    "00111\n",
    "11100\n",
    "10000\n",
    "11001\n",
    "00010\n",
    "01010\n",
    "```\n",
    "Considering only the first bit of each number, there are five 0 bits and seven 1 bits. Since the most common bit is 1, the first bit of the gamma rate is 1.\n",
    "\n",
    "The most common second bit of the numbers in the diagnostic report is 0, so the second bit of the gamma rate is 0.\n",
    "\n",
    "The most common value of the third, fourth, and fifth bits are 1, 1, and 0, respectively, and so the final three bits of the gamma rate are 110.\n",
    "\n",
    "So, the gamma rate is the binary number 10110, or 22 in decimal.\n",
    "\n",
    "The epsilon rate is calculated in a similar way; rather than use the most common bit, the least common bit from each position is used. So, the epsilon rate is 01001, or 9 in decimal. Multiplying the gamma rate (22) by the epsilon rate (9) produces the power consumption, 198.\n",
    "\n",
    "Use the binary numbers in your diagnostic report to calculate the gamma rate and epsilon rate, then multiply them together. **What is the power consumption of the submarine?** (Be sure to represent your answer in decimal, not binary.)"
   ]
  },
  {
   "cell_type": "markdown",
   "metadata": {},
   "source": [
    "# --- Part One ---"
   ]
  },
  {
   "cell_type": "markdown",
   "metadata": {},
   "source": [
    "## Process"
   ]
  },
  {
   "cell_type": "code",
   "execution_count": 10,
   "metadata": {},
   "outputs": [
    {
     "name": "stdout",
     "output_type": "stream",
     "text": [
      "len(bits_list)=1000\n",
      "bits_list[0]='111100101100'\n",
      "len(bits_list[0])=12\n"
     ]
    }
   ],
   "source": [
    "bits_list = [line[:-1] for line in open('03-input.txt').readlines()]\n",
    "print(f'{len(bits_list)=}')\n",
    "print(f'{bits_list[0]=}')\n",
    "print(f'{len(bits_list[0])=}')"
   ]
  },
  {
   "cell_type": "code",
   "execution_count": 19,
   "metadata": {},
   "outputs": [
    {
     "data": {
      "text/plain": [
       "'001'"
      ]
     },
     "execution_count": 19,
     "metadata": {},
     "output_type": "execute_result"
    }
   ],
   "source": [
    "test = '00'\n",
    "test += '1'\n",
    "test"
   ]
  },
  {
   "cell_type": "code",
   "execution_count": 16,
   "metadata": {},
   "outputs": [
    {
     "data": {
      "text/plain": [
       "4"
      ]
     },
     "execution_count": 16,
     "metadata": {},
     "output_type": "execute_result"
    }
   ],
   "source": [
    "int('0100', 2)"
   ]
  },
  {
   "cell_type": "code",
   "execution_count": 22,
   "metadata": {},
   "outputs": [
    {
     "name": "stdout",
     "output_type": "stream",
     "text": [
      "power_bits='000011011010'\n",
      "int(power_bits, 2)=218\n",
      "epsilon_bits='111100100101'\n",
      "int(epsilon_bits, 2)=3877\n"
     ]
    }
   ],
   "source": [
    "n_bits = len(bits_list[0])\n",
    "power_bits = ''\n",
    "epsilon_bits = ''\n",
    "for i in range(n_bits):\n",
    "    bits_avg = sum([int(bits[i]) for bits in bits_list]) / len(bits_list)\n",
    "    if bits_avg < 0.5:\n",
    "        power_bits += '0'\n",
    "        epsilon_bits += '1'\n",
    "    elif bits_avg > 0.5: \n",
    "        power_bits += '1'\n",
    "        epsilon_bits += '0'\n",
    "    else:\n",
    "        print(f'Average of bit {i}: 0.5')\n",
    "print(f'{power_bits=}') \n",
    "print(f'{int(power_bits, 2)=}') \n",
    "print(f'{epsilon_bits=}') \n",
    "print(f'{int(epsilon_bits, 2)=}') "
   ]
  },
  {
   "cell_type": "markdown",
   "metadata": {},
   "source": [
    "## Solution"
   ]
  },
  {
   "cell_type": "code",
   "execution_count": 23,
   "metadata": {},
   "outputs": [
    {
     "name": "stdout",
     "output_type": "stream",
     "text": [
      "Answer: 845186\n"
     ]
    }
   ],
   "source": [
    "bits_list = [line[:-1] for line in open('03-input.txt').readlines()]\n",
    "n_bits = len(bits_list[0])\n",
    "power_bits = ''\n",
    "epsilon_bits = ''\n",
    "for i in range(n_bits):\n",
    "    bits_avg = sum([int(bits[i]) for bits in bits_list]) / len(bits_list)\n",
    "    if bits_avg < 0.5:\n",
    "        power_bits += '0'\n",
    "        epsilon_bits += '1'\n",
    "    else:\n",
    "        power_bits += '1'\n",
    "        epsilon_bits += '0'\n",
    "power = int(power_bits, 2)\n",
    "epsilon = int(epsilon_bits, 2)\n",
    "print(f'Answer: {power * epsilon}')"
   ]
  }
 ],
 "metadata": {
  "interpreter": {
   "hash": "1306c7966c5b96762b343d2f730514ade6724c2b2d933b4300f3eab56046fc91"
  },
  "kernelspec": {
   "display_name": "Python 3.9.5 64-bit (system)",
   "language": "python",
   "name": "python3"
  },
  "language_info": {
   "codemirror_mode": {
    "name": "ipython",
    "version": 3
   },
   "file_extension": ".py",
   "mimetype": "text/x-python",
   "name": "python",
   "nbconvert_exporter": "python",
   "pygments_lexer": "ipython3",
   "version": "3.9.5"
  },
  "orig_nbformat": 4
 },
 "nbformat": 4,
 "nbformat_minor": 2
}
