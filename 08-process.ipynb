{
 "cells": [
  {
   "cell_type": "markdown",
   "metadata": {},
   "source": [
    "# --- Day 8: Seven Segment Search ---"
   ]
  },
  {
   "cell_type": "markdown",
   "metadata": {},
   "source": [
    "You barely reach the safety of the cave when the whale smashes into the cave mouth, collapsing it. Sensors indicate another exit to this cave at a much greater depth, so you have no choice but to press on.\n",
    "\n",
    "As your submarine slowly makes its way through the cave system, you notice that the four-digit seven-segment displays in your submarine are malfunctioning; they must have been damaged during the escape. You'll be in a lot of trouble without them, so you'd better figure out what's wrong.\n",
    "\n",
    "Each digit of a seven-segment display is rendered by turning on or off any of seven segments named a through g:\n",
    "```\n",
    "  0:      1:      2:      3:      4:\n",
    " aaaa    ....    aaaa    aaaa    ....\n",
    "b    c  .    c  .    c  .    c  b    c\n",
    "b    c  .    c  .    c  .    c  b    c\n",
    " ....    ....    dddd    dddd    dddd\n",
    "e    f  .    f  e    .  .    f  .    f\n",
    "e    f  .    f  e    .  .    f  .    f\n",
    " gggg    ....    gggg    gggg    ....\n",
    "\n",
    "  5:      6:      7:      8:      9:\n",
    " aaaa    aaaa    aaaa    aaaa    aaaa\n",
    "b    .  b    .  .    c  b    c  b    c\n",
    "b    .  b    .  .    c  b    c  b    c\n",
    " dddd    dddd    ....    dddd    dddd\n",
    ".    f  e    f  .    f  e    f  .    f\n",
    ".    f  e    f  .    f  e    f  .    f\n",
    " gggg    gggg    ....    gggg    gggg\n",
    "```\n",
    "So, to render a 1, only segments c and f would be turned on; the rest would be off. To render a 7, only segments a, c, and f would be turned on.\n",
    "\n",
    "The problem is that the signals which control the segments have been mixed up on each display. The submarine is still trying to display numbers by producing output on signal wires a through g, but those wires are connected to segments randomly. Worse, the wire/segment connections are mixed up separately for each four-digit display! (All of the digits within a display use the same connections, though.)\n",
    "\n",
    "So, you might know that only signal wires b and g are turned on, but that doesn't mean segments b and g are turned on: the only digit that uses two segments is 1, so it must mean segments c and f are meant to be on. With just that information, you still can't tell which wire (b/g) goes to which segment (c/f). For that, you'll need to collect more information.\n",
    "\n",
    "For each display, you watch the changing signals for a while, make a note of all ten unique signal patterns you see, and then write down a single four digit output value (your puzzle input). Using the signal patterns, you should be able to work out which pattern corresponds to which digit.\n",
    "\n",
    "For example, here is what you might see in a single entry in your notes:\n",
    "```\n",
    "acedgfb cdfbe gcdfa fbcad dab cefabd cdfgeb eafb cagedb ab |\n",
    "cdfeb fcadb cdfeb cdbaf\n",
    "```\n",
    "(The entry is wrapped here to two lines so it fits; in your notes, it will all be on a single line.)\n",
    "\n",
    "Each entry consists of ten unique signal patterns, a | delimiter, and finally the four digit output value. Within an entry, the same wire/segment connections are used (but you don't know what the connections actually are). The unique signal patterns correspond to the ten different ways the submarine tries to render a digit using the current wire/segment connections. Because 7 is the only digit that uses three segments, dab in the above example means that to render a 7, signal lines d, a, and b are on. Because 4 is the only digit that uses four segments, eafb means that to render a 4, signal lines e, a, f, and b are on.\n",
    "\n",
    "Using this information, you should be able to work out which combination of signal wires corresponds to each of the ten digits. Then, you can decode the four digit output value. Unfortunately, in the above example, all of the digits in the output value (cdfeb fcadb cdfeb cdbaf) use five segments and are more difficult to deduce.\n",
    "\n",
    "For now, focus on the easy digits. Consider this larger example:\n",
    "```\n",
    "be cfbegad cbdgef fgaecd cgeb fdcge agebfd fecdb fabcd edb |\n",
    "fdgacbe cefdb cefbgd gcbe\n",
    "edbfga begcd cbg gc gcadebf fbgde acbgfd abcde gfcbed gfec |\n",
    "fcgedb cgb dgebacf gc\n",
    "fgaebd cg bdaec gdafb agbcfd gdcbef bgcad gfac gcb cdgabef |\n",
    "cg cg fdcagb cbg\n",
    "fbegcd cbd adcefb dageb afcb bc aefdc ecdab fgdeca fcdbega |\n",
    "efabcd cedba gadfec cb\n",
    "aecbfdg fbg gf bafeg dbefa fcge gcbea fcaegb dgceab fcbdga |\n",
    "gecf egdcabf bgf bfgea\n",
    "fgeab ca afcebg bdacfeg cfaedg gcfdb baec bfadeg bafgc acf |\n",
    "gebdcfa ecba ca fadegcb\n",
    "dbcfg fgd bdegcaf fgec aegbdf ecdfab fbedc dacgb gdcebf gf |\n",
    "cefg dcbef fcge gbcadfe\n",
    "bdfegc cbegaf gecbf dfcage bdacg ed bedf ced adcbefg gebcd |\n",
    "ed bcgafe cdgba cbgef\n",
    "egadfb cdbfeg cegd fecab cgb gbdefca cg fgcdab egfdb bfceg |\n",
    "gbdfcae bgc cg cgb\n",
    "gcafb gcf dcaebfg ecagb gf abcdeg gaef cafbge fdbac fegbdc |\n",
    "fgae cfgab fg bagce\n",
    "```\n",
    "Because the digits 1, 4, 7, and 8 each use a unique number of segments, you should be able to tell which combinations of signals correspond to those digits. Counting only digits in the output values (the part after | on each line), in the above example, there are 26 instances of digits that use a unique number of segments (highlighted above).\n",
    "\n",
    "**In the output values, how many times do digits 1, 4, 7, or 8 appear?**"
   ]
  },
  {
   "cell_type": "markdown",
   "metadata": {},
   "source": [
    "# --- Part One ---"
   ]
  },
  {
   "cell_type": "markdown",
   "metadata": {},
   "source": [
    "## Process"
   ]
  },
  {
   "cell_type": "code",
   "execution_count": 1,
   "metadata": {},
   "outputs": [
    {
     "data": {
      "text/plain": [
       "'dfgabce cadfgb cefa ca aecbg dfcegb geabd ecbfg cab agcfbe | egbfadc dbgae gcfeb abgdfc\\n'"
      ]
     },
     "execution_count": 1,
     "metadata": {},
     "output_type": "execute_result"
    }
   ],
   "source": [
    "input_lines = [line for line in open('inputs/08-input.txt').readlines()]\n",
    "input_lines[0]"
   ]
  },
  {
   "cell_type": "code",
   "execution_count": 2,
   "metadata": {},
   "outputs": [
    {
     "data": {
      "text/plain": [
       "59"
      ]
     },
     "execution_count": 2,
     "metadata": {},
     "output_type": "execute_result"
    }
   ],
   "source": [
    "input_lines[0].index('|')"
   ]
  },
  {
   "cell_type": "code",
   "execution_count": 3,
   "metadata": {},
   "outputs": [
    {
     "data": {
      "text/plain": [
       "'dfgabce cadfgb cefa ca aecbg dfcegb geabd ecbfg cab agcfbe'"
      ]
     },
     "execution_count": 3,
     "metadata": {},
     "output_type": "execute_result"
    }
   ],
   "source": [
    "input_lines[0][: input_lines[0].index('|') - 1]"
   ]
  },
  {
   "cell_type": "code",
   "execution_count": 4,
   "metadata": {},
   "outputs": [
    {
     "data": {
      "text/plain": [
       "['egbfadc', 'dbgae', 'gcfeb', 'abgdfc']"
      ]
     },
     "execution_count": 4,
     "metadata": {},
     "output_type": "execute_result"
    }
   ],
   "source": [
    "input_lines[0][input_lines[0].index('|') + 2 : -1].split(' ')"
   ]
  },
  {
   "cell_type": "code",
   "execution_count": 5,
   "metadata": {},
   "outputs": [],
   "source": [
    "def get_patterns(input_path):\n",
    "    return [\n",
    "        line[: line.index('|') - 1] \n",
    "        for line in open(input_path).readlines()\n",
    "    ]"
   ]
  },
  {
   "cell_type": "code",
   "execution_count": 6,
   "metadata": {},
   "outputs": [
    {
     "data": {
      "text/plain": [
       "'dfgabce cadfgb cefa ca aecbg dfcegb geabd ecbfg cab agcfbe'"
      ]
     },
     "execution_count": 6,
     "metadata": {},
     "output_type": "execute_result"
    }
   ],
   "source": [
    "patterns = get_patterns('inputs/08-input.txt')\n",
    "patterns[0]"
   ]
  },
  {
   "cell_type": "code",
   "execution_count": 7,
   "metadata": {},
   "outputs": [],
   "source": [
    "def get_outputs(input_path):\n",
    "    return [\n",
    "        line[line.index('|') + 2 : -1].split(' ')\n",
    "        for line in open(input_path).readlines()\n",
    "    ]"
   ]
  },
  {
   "cell_type": "code",
   "execution_count": 8,
   "metadata": {},
   "outputs": [
    {
     "data": {
      "text/plain": [
       "['egbfadc', 'dbgae', 'gcfeb', 'abgdfc']"
      ]
     },
     "execution_count": 8,
     "metadata": {},
     "output_type": "execute_result"
    }
   ],
   "source": [
    "outputs = get_outputs('inputs/08-input.txt')\n",
    "outputs[0]"
   ]
  },
  {
   "cell_type": "code",
   "execution_count": 9,
   "metadata": {},
   "outputs": [],
   "source": [
    "digit_dict = {\n",
    "    0 : 'abcefg',\n",
    "    1 : 'cf',\n",
    "    2 : 'acdeg',\n",
    "    3 : 'acdeg',\n",
    "    4 : 'bcdf',\n",
    "    5 : 'abdfg',\n",
    "    6 : 'abdefg',\n",
    "    7 : 'acf',\n",
    "    8 : 'abcdefg',\n",
    "    9 : 'abcdfg'\n",
    "}"
   ]
  },
  {
   "cell_type": "code",
   "execution_count": 10,
   "metadata": {},
   "outputs": [],
   "source": [
    "def count_1478s(outputs):\n",
    "    count = 0\n",
    "    for output in outputs:\n",
    "        for digit in output:\n",
    "            if len(digit) in [\n",
    "                len(digit_dict[1]), \n",
    "                len(digit_dict[4]), \n",
    "                len(digit_dict[7]), \n",
    "                len(digit_dict[8])\n",
    "            ]:\n",
    "                count += 1\n",
    "    return count"
   ]
  },
  {
   "cell_type": "code",
   "execution_count": 11,
   "metadata": {},
   "outputs": [],
   "source": [
    "test_input = [\n",
    "    'be cfbegad cbdgef fgaecd cgeb fdcge agebfd fecdb fabcd edb | fdgacbe cefdb cefbgd gcbe',\n",
    "    'edbfga begcd cbg gc gcadebf fbgde acbgfd abcde gfcbed gfec | fcgedb cgb dgebacf gc',\n",
    "    'fgaebd cg bdaec gdafb agbcfd gdcbef bgcad gfac gcb cdgabef | cg cg fdcagb cbg',\n",
    "    'fbegcd cbd adcefb dageb afcb bc aefdc ecdab fgdeca fcdbega | efabcd cedba gadfec cb',\n",
    "    'aecbfdg fbg gf bafeg dbefa fcge gcbea fcaegb dgceab fcbdga | gecf egdcabf bgf bfgea',\n",
    "    'fgeab ca afcebg bdacfeg cfaedg gcfdb baec bfadeg bafgc acf | gebdcfa ecba ca fadegcb',\n",
    "    'dbcfg fgd bdegcaf fgec aegbdf ecdfab fbedc dacgb gdcebf gf | cefg dcbef fcge gbcadfe',\n",
    "    'bdfegc cbegaf gecbf dfcage bdacg ed bedf ced adcbefg gebcd | ed bcgafe cdgba cbgef',\n",
    "    'egadfb cdbfeg cegd fecab cgb gbdefca cg fgcdab egfdb bfceg | gbdfcae bgc cg cgb',\n",
    "    'gcafb gcf dcaebfg ecagb gf abcdeg gaef cafbge fdbac fegbdc | fgae cfgab fg bagce'\n",
    "]"
   ]
  },
  {
   "cell_type": "code",
   "execution_count": 12,
   "metadata": {},
   "outputs": [
    {
     "data": {
      "text/plain": [
       "['fdgacbe', 'cefdb', 'cefbgd', 'gcbe']"
      ]
     },
     "execution_count": 12,
     "metadata": {},
     "output_type": "execute_result"
    }
   ],
   "source": [
    "test_outputs = [\n",
    "    line[line.index('|') + 2 :].split(' ')\n",
    "    for line in test_input \n",
    "]\n",
    "test_outputs[0]"
   ]
  },
  {
   "cell_type": "code",
   "execution_count": 13,
   "metadata": {},
   "outputs": [
    {
     "data": {
      "text/plain": [
       "26"
      ]
     },
     "execution_count": 13,
     "metadata": {},
     "output_type": "execute_result"
    }
   ],
   "source": [
    "count_1478s(test_outputs)"
   ]
  },
  {
   "cell_type": "markdown",
   "metadata": {},
   "source": [
    "## Solution"
   ]
  },
  {
   "cell_type": "code",
   "execution_count": 14,
   "metadata": {},
   "outputs": [
    {
     "name": "stdout",
     "output_type": "stream",
     "text": [
      "Answer:\n",
      "440\n"
     ]
    }
   ],
   "source": [
    "def get_outputs(input_path):\n",
    "    return [\n",
    "        line[line.index('|') + 2 : -1].split(' ')\n",
    "        for line in open(input_path).readlines()\n",
    "    ]\n",
    "\n",
    "def count_1478s(outputs):\n",
    "    count = 0\n",
    "    for output in outputs:\n",
    "        for digit in output:\n",
    "            if len(digit) in [\n",
    "                len(digit_dict[1]), \n",
    "                len(digit_dict[4]), \n",
    "                len(digit_dict[7]), \n",
    "                len(digit_dict[8])\n",
    "            ]:\n",
    "                count += 1\n",
    "    return count\n",
    "\n",
    "def part_one():\n",
    "    outputs = get_outputs('inputs/08-input.txt')\n",
    "    count = count_1478s(outputs)\n",
    "    print('Answer:')\n",
    "    print(count)\n",
    "\n",
    "part_one()"
   ]
  },
  {
   "cell_type": "markdown",
   "metadata": {},
   "source": [
    "# --- Part Two ---"
   ]
  },
  {
   "cell_type": "markdown",
   "metadata": {},
   "source": [
    "Through a little deduction, you should now be able to determine the remaining digits. Consider again the first example above:\n",
    "```\n",
    "acedgfb cdfbe gcdfa fbcad dab cefabd cdfgeb eafb cagedb ab |\n",
    "cdfeb fcadb cdfeb cdbaf\n",
    "```\n",
    "After some careful analysis, the mapping between signal wires and segments only make sense in the following configuration:\n",
    "```\n",
    " dddd\n",
    "e    a\n",
    "e    a\n",
    " ffff\n",
    "g    b\n",
    "g    b\n",
    " cccc\n",
    "```\n",
    "So, the unique signal patterns would correspond to the following digits:\n",
    "\n",
    "- acedgfb: 8\n",
    "- cdfbe: 5\n",
    "- gcdfa: 2\n",
    "- fbcad: 3\n",
    "- dab: 7\n",
    "- cefabd: 9\n",
    "- cdfgeb: 6\n",
    "- eafb: 4\n",
    "- cagedb: 0\n",
    "- ab: 1\n",
    "\n",
    "Then, the four digits of the output value can be decoded:\n",
    "\n",
    "- cdfeb: 5\n",
    "- fcadb: 3\n",
    "- cdfeb: 5\n",
    "- cdbaf: 3\n",
    "\n",
    "Therefore, the output value for this entry is 5353.\n",
    "\n",
    "Following this same process for each entry in the second, larger example above, the output value of each entry can be determined:\n",
    "\n",
    "- fdgacbe cefdb cefbgd gcbe: 8394\n",
    "- fcgedb cgb dgebacf gc: 9781\n",
    "- cg cg fdcagb cbg: 1197\n",
    "- efabcd cedba gadfec cb: 9361\n",
    "- gecf egdcabf bgf bfgea: 4873\n",
    "- gebdcfa ecba ca fadegcb: 8418\n",
    "- cefg dcbef fcge gbcadfe: 4548\n",
    "- ed bcgafe cdgba cbgef: 1625\n",
    "- gbdfcae bgc cg cgb: 8717\n",
    "- fgae cfgab fg bagce: 4315\n",
    "\n",
    "Adding all of the output values in this larger example produces 61229.\n",
    "\n",
    "For each entry, determine all of the wire/segment connections and decode the four-digit output values. **What do you get if you add up all of the output values?**"
   ]
  },
  {
   "cell_type": "markdown",
   "metadata": {},
   "source": [
    "## Process"
   ]
  },
  {
   "cell_type": "code",
   "execution_count": 15,
   "metadata": {},
   "outputs": [],
   "source": [
    "test_pattern = (\n",
    "    'acedgfb cdfbe gcdfa fbcad dab cefabd cdfgeb eafb cagedb ab'.split(' ')\n",
    ")\n",
    "test_output = 'cdfeb fcadb cdfeb cdbaf'.split(' ')\n",
    "test_digits = 5353"
   ]
  },
  {
   "cell_type": "code",
   "execution_count": 16,
   "metadata": {},
   "outputs": [
    {
     "data": {
      "text/plain": [
       "{0: 'abcefg',\n",
       " 1: 'cf',\n",
       " 2: 'acdeg',\n",
       " 3: 'acdeg',\n",
       " 4: 'bcdf',\n",
       " 5: 'abdfg',\n",
       " 6: 'abdefg',\n",
       " 7: 'acf',\n",
       " 8: 'abcdefg',\n",
       " 9: 'abcdfg'}"
      ]
     },
     "execution_count": 16,
     "metadata": {},
     "output_type": "execute_result"
    }
   ],
   "source": [
    "digit_dict"
   ]
  },
  {
   "cell_type": "markdown",
   "metadata": {},
   "source": [
    "Current thought: make a dictionary for each wire (character) that will hold the possible mappings. We go through each of the digits with a unique number of characters (i.e. 1, 4, 7, 8) and that gives us an initial idea. Hopefully from there, we'll be able to eliminate more options. This is one way to solve sudoku puzzles, so I think it should help narrow down the mappings here.\n",
    "\n",
    "For example, for `test_pattern`, we first go through and find the two digits that are made up of two characters, which is `ab`, and represents the digit 1. Since we know that a 1 should be made up of `cf`, this tells us that wires `c` and `f` could both be either `a` or `b`. In the dictionary to keep track of this, `mapping_dict`, we append `ab` to both wires `c` and `f`."
   ]
  },
  {
   "cell_type": "code",
   "execution_count": 17,
   "metadata": {},
   "outputs": [
    {
     "data": {
      "text/plain": [
       "{'a': '', 'b': '', 'c': '', 'd': '', 'e': '', 'f': '', 'g': ''}"
      ]
     },
     "execution_count": 17,
     "metadata": {},
     "output_type": "execute_result"
    }
   ],
   "source": [
    "mapping_dict = {wire : '' for wire in 'abcdefg'}\n",
    "mapping_dict"
   ]
  },
  {
   "cell_type": "code",
   "execution_count": 18,
   "metadata": {},
   "outputs": [
    {
     "data": {
      "text/plain": [
       "'cf'"
      ]
     },
     "execution_count": 18,
     "metadata": {},
     "output_type": "execute_result"
    }
   ],
   "source": [
    "digit_dict[1]"
   ]
  },
  {
   "cell_type": "code",
   "execution_count": 19,
   "metadata": {},
   "outputs": [
    {
     "data": {
      "text/plain": [
       "{'a': '', 'b': '', 'c': 'ab', 'd': '', 'e': '', 'f': 'ab', 'g': ''}"
      ]
     },
     "execution_count": 19,
     "metadata": {},
     "output_type": "execute_result"
    }
   ],
   "source": [
    "mapping_dict = {wire : '' for wire in 'abcdefg'}\n",
    "for digit in test_pattern:\n",
    "    if len(digit) == len(digit_dict[1]):\n",
    "        for wire in digit_dict[1]:\n",
    "            # += to append to a string\n",
    "            mapping_dict[wire] += digit\n",
    "mapping_dict"
   ]
  },
  {
   "cell_type": "markdown",
   "metadata": {},
   "source": [
    "Now to extrapolate beyond 1..."
   ]
  },
  {
   "cell_type": "code",
   "execution_count": 20,
   "metadata": {},
   "outputs": [
    {
     "data": {
      "text/plain": [
       "{8: {'a': 'acedgfb',\n",
       "  'b': 'acedgfb',\n",
       "  'c': 'acedgfb',\n",
       "  'd': 'acedgfb',\n",
       "  'e': 'acedgfb',\n",
       "  'f': 'acedgfb',\n",
       "  'g': 'acedgfb'},\n",
       " 7: {'a': 'dab', 'b': '', 'c': 'dab', 'd': '', 'e': '', 'f': 'dab', 'g': ''},\n",
       " 4: {'a': '',\n",
       "  'b': 'eafb',\n",
       "  'c': 'eafb',\n",
       "  'd': 'eafb',\n",
       "  'e': '',\n",
       "  'f': 'eafb',\n",
       "  'g': ''},\n",
       " 1: {'a': '', 'b': '', 'c': 'ab', 'd': '', 'e': '', 'f': 'ab', 'g': ''}}"
      ]
     },
     "execution_count": 20,
     "metadata": {},
     "output_type": "execute_result"
    }
   ],
   "source": [
    "mapping_dict = {}\n",
    "for digit in test_pattern:\n",
    "    for unique_length_num in [1, 4, 7, 8]:\n",
    "        if len(digit) == len(digit_dict[unique_length_num]):\n",
    "            mapping_dict[unique_length_num] = {wire : '' for wire in 'abcdefg'}\n",
    "            for wire in digit_dict[unique_length_num]:\n",
    "                # += to append to a string\n",
    "                mapping_dict[unique_length_num][wire] += digit\n",
    "mapping_dict"
   ]
  },
  {
   "cell_type": "markdown",
   "metadata": {},
   "source": [
    "From the above output, I can see that since 7 & 1 share two of the same wires, we can figure out the mapping for wire `a` by knowing the three wires across the two digits!"
   ]
  },
  {
   "cell_type": "code",
   "execution_count": 21,
   "metadata": {},
   "outputs": [
    {
     "data": {
      "text/plain": [
       "'d'"
      ]
     },
     "execution_count": 21,
     "metadata": {},
     "output_type": "execute_result"
    }
   ],
   "source": [
    "'dab'.replace('ab', '')"
   ]
  },
  {
   "cell_type": "code",
   "execution_count": 22,
   "metadata": {},
   "outputs": [
    {
     "data": {
      "text/plain": [
       "{'a': 'd', 'b': '', 'c': 'dab', 'd': '', 'e': '', 'f': 'dab', 'g': ''}"
      ]
     },
     "execution_count": 22,
     "metadata": {},
     "output_type": "execute_result"
    }
   ],
   "source": [
    "# mapping_dict[1]['c'] and mapping_dict[1]['f'] will both work (always the same)\n",
    "mapping_dict[7]['a'] = mapping_dict[7]['a'].replace(mapping_dict[1]['c'], '')\n",
    "mapping_dict[7]"
   ]
  },
  {
   "cell_type": "markdown",
   "metadata": {},
   "source": [
    "Still need to replace the possible mapping for wires `c` and `f` with the mappings from digit 1."
   ]
  },
  {
   "cell_type": "code",
   "execution_count": 23,
   "metadata": {},
   "outputs": [
    {
     "data": {
      "text/plain": [
       "{'a': 'd', 'b': '', 'c': 'ab', 'd': '', 'e': '', 'f': 'ab', 'g': ''}"
      ]
     },
     "execution_count": 23,
     "metadata": {},
     "output_type": "execute_result"
    }
   ],
   "source": [
    "mapping_dict[7]['c'] = mapping_dict[1]['c']\n",
    "mapping_dict[7]['f'] = mapping_dict[1]['f']\n",
    "mapping_dict[7]"
   ]
  },
  {
   "cell_type": "markdown",
   "metadata": {},
   "source": [
    "The next smallest number of wires for a single digit is the digit 4, which has 4 wires.The digit 4 also shares wires `c` and `f` with wires 1 and 7. We know the two wires that will map to either `c` or `f`, so removing these from the pool of possible wires for digit 4 will give us two possible mappings for both wires `b` and `d`."
   ]
  },
  {
   "cell_type": "code",
   "execution_count": 24,
   "metadata": {},
   "outputs": [
    {
     "data": {
      "text/plain": [
       "{'a': '', 'b': 'eafb', 'c': 'eafb', 'd': 'eafb', 'e': '', 'f': 'eafb', 'g': ''}"
      ]
     },
     "execution_count": 24,
     "metadata": {},
     "output_type": "execute_result"
    }
   ],
   "source": [
    "mapping_dict[4]"
   ]
  },
  {
   "cell_type": "code",
   "execution_count": 25,
   "metadata": {},
   "outputs": [
    {
     "data": {
      "text/plain": [
       "{'a': '', 'b': 'eafb', 'c': 'eafb', 'd': 'eafb', 'e': '', 'f': 'eafb', 'g': ''}"
      ]
     },
     "execution_count": 25,
     "metadata": {},
     "output_type": "execute_result"
    }
   ],
   "source": [
    "mapping_dict[4]['b'] = mapping_dict[4]['b'].replace(mapping_dict[1]['c'], '')\n",
    "mapping_dict[4]"
   ]
  },
  {
   "cell_type": "markdown",
   "metadata": {},
   "source": [
    "The above didn't work because the string of wires `ab` are not next to each other in the string of possible wires for wire `b`. We must replace them independtly."
   ]
  },
  {
   "cell_type": "code",
   "execution_count": 26,
   "metadata": {},
   "outputs": [
    {
     "data": {
      "text/plain": [
       "{'a': '', 'b': 'ef', 'c': 'eafb', 'd': 'ef', 'e': '', 'f': 'eafb', 'g': ''}"
      ]
     },
     "execution_count": 26,
     "metadata": {},
     "output_type": "execute_result"
    }
   ],
   "source": [
    "for wire in mapping_dict[1]['c']:\n",
    "    mapping_dict[4]['b'] = mapping_dict[4]['b'].replace(wire, '')\n",
    "    mapping_dict[4]['d'] = mapping_dict[4]['d'].replace(wire, '')\n",
    "mapping_dict[4]"
   ]
  },
  {
   "cell_type": "markdown",
   "metadata": {},
   "source": [
    "Still need to replace the possible mapping for wires `c` and `f` with the mappings from digit 1."
   ]
  },
  {
   "cell_type": "code",
   "execution_count": 27,
   "metadata": {},
   "outputs": [
    {
     "data": {
      "text/plain": [
       "{'a': '', 'b': 'ef', 'c': 'ab', 'd': 'ef', 'e': '', 'f': 'ab', 'g': ''}"
      ]
     },
     "execution_count": 27,
     "metadata": {},
     "output_type": "execute_result"
    }
   ],
   "source": [
    "mapping_dict[4]['c'] = mapping_dict[1]['c']\n",
    "mapping_dict[4]['f'] = mapping_dict[1]['f']\n",
    "mapping_dict[4]"
   ]
  },
  {
   "cell_type": "code",
   "execution_count": 28,
   "metadata": {},
   "outputs": [
    {
     "data": {
      "text/plain": [
       "{8: {'a': 'acedgfb',\n",
       "  'b': 'acedgfb',\n",
       "  'c': 'acedgfb',\n",
       "  'd': 'acedgfb',\n",
       "  'e': 'acedgfb',\n",
       "  'f': 'acedgfb',\n",
       "  'g': 'acedgfb'},\n",
       " 7: {'a': 'd', 'b': '', 'c': 'ab', 'd': '', 'e': '', 'f': 'ab', 'g': ''},\n",
       " 4: {'a': '', 'b': 'ef', 'c': 'ab', 'd': 'ef', 'e': '', 'f': 'ab', 'g': ''},\n",
       " 1: {'a': '', 'b': '', 'c': 'ab', 'd': '', 'e': '', 'f': 'ab', 'g': ''}}"
      ]
     },
     "execution_count": 28,
     "metadata": {},
     "output_type": "execute_result"
    }
   ],
   "source": [
    "mapping_dict"
   ]
  },
  {
   "cell_type": "markdown",
   "metadata": {},
   "source": [
    "The only digit we have left with a unique number of wires is digit 8, but that isn't very helpful since all the wires are used for it. Instead, we need to find a way to compare digits 1 and 4 with other digits that don't use wires `b`, `c`, `d`, or `f`. For now, we'll replace the possible wires in 8 based on digits 1, 4, and 7."
   ]
  },
  {
   "cell_type": "code",
   "execution_count": 29,
   "metadata": {},
   "outputs": [
    {
     "data": {
      "text/plain": [
       "{'a': 'd',\n",
       " 'b': 'ef',\n",
       " 'c': 'ab',\n",
       " 'd': 'ef',\n",
       " 'e': 'acedgfb',\n",
       " 'f': 'ab',\n",
       " 'g': 'acedgfb'}"
      ]
     },
     "execution_count": 29,
     "metadata": {},
     "output_type": "execute_result"
    }
   ],
   "source": [
    "mapping_dict[8]['a'] = mapping_dict[7]['a']\n",
    "mapping_dict[8]['b'] = mapping_dict[4]['b']\n",
    "mapping_dict[8]['c'] = mapping_dict[1]['c']\n",
    "mapping_dict[8]['d'] = mapping_dict[4]['d']\n",
    "mapping_dict[8]['f'] = mapping_dict[1]['f']\n",
    "mapping_dict[8]"
   ]
  },
  {
   "cell_type": "markdown",
   "metadata": {},
   "source": [
    "We can also remove the wires used for other mappings from the mappings for wires `e` and `g`."
   ]
  },
  {
   "cell_type": "code",
   "execution_count": 30,
   "metadata": {},
   "outputs": [
    {
     "data": {
      "text/plain": [
       "'defab'"
      ]
     },
     "execution_count": 30,
     "metadata": {},
     "output_type": "execute_result"
    }
   ],
   "source": [
    "mapping_dict[8]['a'] + mapping_dict[8]['b'] + mapping_dict[8]['c']"
   ]
  },
  {
   "cell_type": "code",
   "execution_count": 31,
   "metadata": {},
   "outputs": [
    {
     "data": {
      "text/plain": [
       "{'a': 'd', 'b': 'ef', 'c': 'ab', 'd': 'ef', 'e': 'cg', 'f': 'ab', 'g': 'cg'}"
      ]
     },
     "execution_count": 31,
     "metadata": {},
     "output_type": "execute_result"
    }
   ],
   "source": [
    "non_eg_wires = mapping_dict[8]['a'] + mapping_dict[8]['b'] + mapping_dict[8]['c']\n",
    "for wire in non_eg_wires:\n",
    "    mapping_dict[8]['e'] = mapping_dict[8]['e'].replace(wire, '')\n",
    "    mapping_dict[8]['g'] = mapping_dict[8]['g'].replace(wire, '')\n",
    "mapping_dict[8]"
   ]
  },
  {
   "cell_type": "code",
   "execution_count": 32,
   "metadata": {},
   "outputs": [
    {
     "data": {
      "text/plain": [
       "{8: {'a': 'd',\n",
       "  'b': 'ef',\n",
       "  'c': 'ab',\n",
       "  'd': 'ef',\n",
       "  'e': 'cg',\n",
       "  'f': 'ab',\n",
       "  'g': 'cg'},\n",
       " 7: {'a': 'd', 'b': '', 'c': 'ab', 'd': '', 'e': '', 'f': 'ab', 'g': ''},\n",
       " 4: {'a': '', 'b': 'ef', 'c': 'ab', 'd': 'ef', 'e': '', 'f': 'ab', 'g': ''},\n",
       " 1: {'a': '', 'b': '', 'c': 'ab', 'd': '', 'e': '', 'f': 'ab', 'g': ''}}"
      ]
     },
     "execution_count": 32,
     "metadata": {},
     "output_type": "execute_result"
    }
   ],
   "source": [
    "mapping_dict"
   ]
  },
  {
   "cell_type": "markdown",
   "metadata": {},
   "source": [
    "I see now that I'll be able to figure out which digits are which based on their length and the wires they share with the unique length-wires.\n",
    "\n",
    "For example, there are three 6 wire digits: 9, 6, and 0. 9 is the only digit of these three that contain all the wires that 4 contains. Out of the remaining two digits, we can determine which is which by comparing their wires with the wires of digit one: 0 will contain both wires while 6 will contain only one. \n",
    "\n",
    "Since we don't need to map each wire, we can do away with the mapping dict and simply track the wires in letters that we are sure about:"
   ]
  },
  {
   "cell_type": "code",
   "execution_count": 33,
   "metadata": {},
   "outputs": [
    {
     "data": {
      "text/plain": [
       "{2: 1, 4: 4, 3: 7, 7: 8}"
      ]
     },
     "execution_count": 33,
     "metadata": {},
     "output_type": "execute_result"
    }
   ],
   "source": [
    "unique_len_digits = {len(digit_dict[digit]) : digit for digit in [1, 4, 7, 8]}\n",
    "unique_len_digits"
   ]
  },
  {
   "cell_type": "code",
   "execution_count": 34,
   "metadata": {},
   "outputs": [
    {
     "data": {
      "text/plain": [
       "7"
      ]
     },
     "execution_count": 34,
     "metadata": {},
     "output_type": "execute_result"
    }
   ],
   "source": [
    "unique_len_digits[3]"
   ]
  },
  {
   "cell_type": "code",
   "execution_count": 35,
   "metadata": {},
   "outputs": [
    {
     "data": {
      "text/plain": [
       "{8: 'acedgfb', 7: 'dab', 4: 'eafb', 1: 'ab'}"
      ]
     },
     "execution_count": 35,
     "metadata": {},
     "output_type": "execute_result"
    }
   ],
   "source": [
    "digit_wires = {}\n",
    "unique_len_digits = {len(digit_dict[digit]) : digit for digit in [1, 4, 7, 8]}\n",
    "for digit in test_pattern:\n",
    "    # unique_len_digits (key : value) pairs: (length : corresponding digit)\n",
    "    if len(digit) in unique_len_digits.keys():\n",
    "        digit_wires[unique_len_digits[len(digit)]] = digit\n",
    "digit_wires"
   ]
  },
  {
   "cell_type": "markdown",
   "metadata": {},
   "source": [
    "Now that we have a new way of organizing the wires for the known digits, we can start determining the other digits, starting with the rules for 9, 6, and 0:"
   ]
  },
  {
   "cell_type": "code",
   "execution_count": 36,
   "metadata": {},
   "outputs": [
    {
     "data": {
      "text/plain": [
       "['cefabd', 'cdfgeb', 'cagedb']"
      ]
     },
     "execution_count": 36,
     "metadata": {},
     "output_type": "execute_result"
    }
   ],
   "source": [
    "len_6_digits = []\n",
    "for digit in test_pattern:\n",
    "    # unique_len_digits (key : value) pairs: (length : corresponding digit)\n",
    "    if len(digit) == 6:\n",
    "        len_6_digits.append(digit)\n",
    "len_6_digits"
   ]
  },
  {
   "cell_type": "code",
   "execution_count": 37,
   "metadata": {},
   "outputs": [
    {
     "name": "stdout",
     "output_type": "stream",
     "text": [
      "digit='cefabd'\n",
      "inter={'f', 'e', 'a', 'b'}\n",
      "len(inter)=4\n",
      "digit='cdfgeb'\n",
      "inter={'f', 'e', 'b'}\n",
      "len(inter)=3\n",
      "digit='cagedb'\n",
      "inter={'e', 'a', 'b'}\n",
      "len(inter)=3\n"
     ]
    }
   ],
   "source": [
    "for digit in len_6_digits:\n",
    "    print(f'{digit=}')\n",
    "    inter = set(digit_wires[4]).intersection(digit)\n",
    "    print(f'{inter=}')\n",
    "    print(f'{len(inter)=}')"
   ]
  },
  {
   "cell_type": "code",
   "execution_count": 38,
   "metadata": {},
   "outputs": [
    {
     "data": {
      "text/plain": [
       "{8: 'acedgfb',\n",
       " 7: 'dab',\n",
       " 4: 'eafb',\n",
       " 1: 'ab',\n",
       " 9: 'cefabd',\n",
       " 6: 'cdfgeb',\n",
       " 0: 'cagedb'}"
      ]
     },
     "execution_count": 38,
     "metadata": {},
     "output_type": "execute_result"
    }
   ],
   "source": [
    "for digit in test_pattern:\n",
    "    if len(digit) == 6:\n",
    "        # set(digit).intersection(digit_wires[4]): shared wires between the iterated digit & digit 4\n",
    "        # digit with 6 wires that shares all four wires with wire 4 is only 9\n",
    "        if len(set(digit).intersection(digit_wires[4])) == 4:\n",
    "            digit_wires[9] = digit\n",
    "        # digit with 6 wires that shares both wires with wire 1 is only 0\n",
    "        elif len(set(digit).intersection(digit_wires[1])) == 2:\n",
    "            digit_wires[0] = digit\n",
    "        # Last six wire digit is 6\n",
    "        else:\n",
    "            digit_wires[6] = digit\n",
    "digit_wires"
   ]
  },
  {
   "cell_type": "markdown",
   "metadata": {},
   "source": [
    "We are still missing digits 2, 3, and 5. These each have 5 digits, so we'll differentiate by their overlap with other digits. Digit 3 will contain all three of the same wires as digit 7, while digits 5 and 2 will each only contain 2 overlaping wires, so that will be our first rule. To differentiate digit 5 and 2, digit 5 will share three of the wires of digit 4, while digit 2 will only share two wires."
   ]
  },
  {
   "cell_type": "code",
   "execution_count": 39,
   "metadata": {},
   "outputs": [
    {
     "data": {
      "text/plain": [
       "{8: 'acedgfb',\n",
       " 7: 'dab',\n",
       " 4: 'eafb',\n",
       " 1: 'ab',\n",
       " 9: 'cefabd',\n",
       " 6: 'cdfgeb',\n",
       " 0: 'cagedb',\n",
       " 5: 'cdfbe',\n",
       " 2: 'gcdfa',\n",
       " 3: 'fbcad'}"
      ]
     },
     "execution_count": 39,
     "metadata": {},
     "output_type": "execute_result"
    }
   ],
   "source": [
    "for digit in test_pattern:\n",
    "    if len(digit) == 5:\n",
    "        if len(set(digit).intersection(digit_wires[7])) == 3:\n",
    "            digit_wires[3] = digit\n",
    "        elif len(set(digit).intersection(digit_wires[4])) == 3:\n",
    "            digit_wires[5] = digit\n",
    "        else:\n",
    "            digit_wires[2] = digit\n",
    "digit_wires"
   ]
  },
  {
   "cell_type": "markdown",
   "metadata": {},
   "source": [
    "We'll now combine each of these into a function:"
   ]
  },
  {
   "cell_type": "code",
   "execution_count": 40,
   "metadata": {},
   "outputs": [],
   "source": [
    "def get_unique_digits(pattern):\n",
    "    digit_wires = {}\n",
    "    unique_len_digits = {len(digit_dict[digit]) : digit for digit in [1, 4, 7, 8]}\n",
    "    for digit in pattern:\n",
    "        # Check if length of digit is unique\n",
    "        # unique_len_digits (key : value) pairs: (length : corresponding digit)\n",
    "        if len(digit) in unique_len_digits.keys():\n",
    "            digit_wires[unique_len_digits[len(digit)]] = digit\n",
    "    return digit_wires"
   ]
  },
  {
   "cell_type": "code",
   "execution_count": 41,
   "metadata": {},
   "outputs": [],
   "source": [
    "def get_digit_wires(pattern):\n",
    "    digit_wires = get_unique_digits(pattern)\n",
    "    for digit in pattern:\n",
    "        # Check if length of digit is unique\n",
    "        # unique_len_digits (key : value) pairs: (length : corresponding digit)\n",
    "        if len(digit) in unique_len_digits.keys():\n",
    "            digit_wires[unique_len_digits[len(digit)]] = digit\n",
    "        if len(digit) == 6:\n",
    "            # set(digit).intersection(digit_wires[4]): shared wires between the iterated digit & digit 4\n",
    "            # digit with 6 wires that shares all four wires with wire 4 is only 9\n",
    "            if len(set(digit).intersection(digit_wires[4])) == 4:\n",
    "                digit_wires[9] = digit\n",
    "            # digit with 6 wires that shares both wires with wire 1 is only 0\n",
    "            elif len(set(digit).intersection(digit_wires[1])) == 2:\n",
    "                digit_wires[0] = digit\n",
    "            # Last six wire digit is 6\n",
    "            else:\n",
    "                digit_wires[6] = digit\n",
    "        elif len(digit) == 5:\n",
    "            if len(set(digit).intersection(digit_wires[7])) == 3:\n",
    "                digit_wires[3] = digit\n",
    "            elif len(set(digit).intersection(digit_wires[4])) == 3:\n",
    "                digit_wires[5] = digit\n",
    "            else:\n",
    "                digit_wires[2] = digit\n",
    "    return digit_wires"
   ]
  },
  {
   "cell_type": "code",
   "execution_count": 42,
   "metadata": {},
   "outputs": [
    {
     "data": {
      "text/plain": [
       "{8: 'acedgfb',\n",
       " 7: 'dab',\n",
       " 4: 'eafb',\n",
       " 1: 'ab',\n",
       " 5: 'cdfbe',\n",
       " 2: 'gcdfa',\n",
       " 3: 'fbcad',\n",
       " 9: 'cefabd',\n",
       " 6: 'cdfgeb',\n",
       " 0: 'cagedb'}"
      ]
     },
     "execution_count": 42,
     "metadata": {},
     "output_type": "execute_result"
    }
   ],
   "source": [
    "get_digit_wires(test_pattern)"
   ]
  },
  {
   "cell_type": "code",
   "execution_count": 43,
   "metadata": {},
   "outputs": [],
   "source": [
    "def match_wires_to_digit(wires_to_match, digit_wires):\n",
    "    for digit, wires_to_compare in digit_wires.items():\n",
    "        if (len(wires_to_match) == len(wires_to_compare)) and (\n",
    "            len(set(wires_to_match).intersection(wires_to_compare)) \n",
    "            == len(wires_to_compare)\n",
    "        ):\n",
    "            return digit"
   ]
  },
  {
   "cell_type": "code",
   "execution_count": 44,
   "metadata": {},
   "outputs": [],
   "source": [
    "def decode_output(output, digit_wires):\n",
    "    out_str = ''\n",
    "    for wires in output:\n",
    "        out_str += str(match_wires_to_digit(wires, digit_wires))\n",
    "    return int(out_str)"
   ]
  },
  {
   "cell_type": "code",
   "execution_count": 45,
   "metadata": {},
   "outputs": [
    {
     "name": "stdout",
     "output_type": "stream",
     "text": [
      "Test passed.\n"
     ]
    }
   ],
   "source": [
    "digit_wires = get_digit_wires(test_pattern)\n",
    "decoded_output = decode_output(test_output, digit_wires)\n",
    "assert decoded_output == 5353, 'Should be 5353'\n",
    "print('Test passed.')"
   ]
  },
  {
   "cell_type": "markdown",
   "metadata": {},
   "source": [
    "## Solution"
   ]
  },
  {
   "cell_type": "code",
   "execution_count": 46,
   "metadata": {},
   "outputs": [
    {
     "ename": "ValueError",
     "evalue": "invalid literal for int() with base 10: 'NoneNoneNoneNone'",
     "output_type": "error",
     "traceback": [
      "\u001b[1;31m---------------------------------------------------------------------------\u001b[0m",
      "\u001b[1;31mValueError\u001b[0m                                Traceback (most recent call last)",
      "\u001b[1;32m~\\AppData\\Local\\Temp/ipykernel_7192/2128171620.py\u001b[0m in \u001b[0;36m<module>\u001b[1;34m\u001b[0m\n\u001b[0;32m     72\u001b[0m     \u001b[1;32mreturn\u001b[0m \u001b[0msum\u001b[0m\u001b[1;33m(\u001b[0m\u001b[0mdecoded_outputs\u001b[0m\u001b[1;33m)\u001b[0m\u001b[1;33m\u001b[0m\u001b[1;33m\u001b[0m\u001b[0m\n\u001b[0;32m     73\u001b[0m \u001b[1;33m\u001b[0m\u001b[0m\n\u001b[1;32m---> 74\u001b[1;33m \u001b[0mget_answer\u001b[0m\u001b[1;33m(\u001b[0m\u001b[1;33m)\u001b[0m\u001b[1;33m\u001b[0m\u001b[1;33m\u001b[0m\u001b[0m\n\u001b[0m\u001b[0;32m     75\u001b[0m \u001b[1;33m\u001b[0m\u001b[0m\n",
      "\u001b[1;32m~\\AppData\\Local\\Temp/ipykernel_7192/2128171620.py\u001b[0m in \u001b[0;36mget_answer\u001b[1;34m()\u001b[0m\n\u001b[0;32m     68\u001b[0m     \u001b[1;32mfor\u001b[0m \u001b[0mpattern\u001b[0m\u001b[1;33m,\u001b[0m \u001b[0moutput\u001b[0m \u001b[1;32min\u001b[0m \u001b[0mzip\u001b[0m\u001b[1;33m(\u001b[0m\u001b[0mpatterns\u001b[0m\u001b[1;33m,\u001b[0m \u001b[0moutputs\u001b[0m\u001b[1;33m)\u001b[0m\u001b[1;33m:\u001b[0m\u001b[1;33m\u001b[0m\u001b[1;33m\u001b[0m\u001b[0m\n\u001b[0;32m     69\u001b[0m         \u001b[0mdigit_wires\u001b[0m \u001b[1;33m=\u001b[0m \u001b[0mget_digit_wires\u001b[0m\u001b[1;33m(\u001b[0m\u001b[0mpattern\u001b[0m\u001b[1;33m)\u001b[0m\u001b[1;33m\u001b[0m\u001b[1;33m\u001b[0m\u001b[0m\n\u001b[1;32m---> 70\u001b[1;33m         \u001b[0mdecoded_outputs\u001b[0m\u001b[1;33m.\u001b[0m\u001b[0mappend\u001b[0m\u001b[1;33m(\u001b[0m\u001b[0mdecode_output\u001b[0m\u001b[1;33m(\u001b[0m\u001b[0moutput\u001b[0m\u001b[1;33m,\u001b[0m \u001b[0mdigit_wires\u001b[0m\u001b[1;33m)\u001b[0m\u001b[1;33m)\u001b[0m\u001b[1;33m\u001b[0m\u001b[1;33m\u001b[0m\u001b[0m\n\u001b[0m\u001b[0;32m     71\u001b[0m     \u001b[0mprint\u001b[0m\u001b[1;33m(\u001b[0m\u001b[1;34m'Answer:'\u001b[0m\u001b[1;33m)\u001b[0m\u001b[1;33m\u001b[0m\u001b[1;33m\u001b[0m\u001b[0m\n\u001b[0;32m     72\u001b[0m     \u001b[1;32mreturn\u001b[0m \u001b[0msum\u001b[0m\u001b[1;33m(\u001b[0m\u001b[0mdecoded_outputs\u001b[0m\u001b[1;33m)\u001b[0m\u001b[1;33m\u001b[0m\u001b[1;33m\u001b[0m\u001b[0m\n",
      "\u001b[1;32m~\\AppData\\Local\\Temp/ipykernel_7192/2128171620.py\u001b[0m in \u001b[0;36mdecode_output\u001b[1;34m(output, digit_wires)\u001b[0m\n\u001b[0;32m     60\u001b[0m     \u001b[1;32mfor\u001b[0m \u001b[0mwire_str\u001b[0m \u001b[1;32min\u001b[0m \u001b[0moutput\u001b[0m\u001b[1;33m:\u001b[0m\u001b[1;33m\u001b[0m\u001b[1;33m\u001b[0m\u001b[0m\n\u001b[0;32m     61\u001b[0m         \u001b[0mout_str\u001b[0m \u001b[1;33m+=\u001b[0m \u001b[0mstr\u001b[0m\u001b[1;33m(\u001b[0m\u001b[0mmatch_wires_to_digit\u001b[0m\u001b[1;33m(\u001b[0m\u001b[0mwire_str\u001b[0m\u001b[1;33m,\u001b[0m \u001b[0mdigit_wires\u001b[0m\u001b[1;33m)\u001b[0m\u001b[1;33m)\u001b[0m\u001b[1;33m\u001b[0m\u001b[1;33m\u001b[0m\u001b[0m\n\u001b[1;32m---> 62\u001b[1;33m     \u001b[1;32mreturn\u001b[0m \u001b[0mint\u001b[0m\u001b[1;33m(\u001b[0m\u001b[0mout_str\u001b[0m\u001b[1;33m)\u001b[0m\u001b[1;33m\u001b[0m\u001b[1;33m\u001b[0m\u001b[0m\n\u001b[0m\u001b[0;32m     63\u001b[0m \u001b[1;33m\u001b[0m\u001b[0m\n\u001b[0;32m     64\u001b[0m \u001b[1;32mdef\u001b[0m \u001b[0mget_answer\u001b[0m\u001b[1;33m(\u001b[0m\u001b[1;33m)\u001b[0m\u001b[1;33m:\u001b[0m\u001b[1;33m\u001b[0m\u001b[1;33m\u001b[0m\u001b[0m\n",
      "\u001b[1;31mValueError\u001b[0m: invalid literal for int() with base 10: 'NoneNoneNoneNone'"
     ]
    }
   ],
   "source": [
    "def get_patterns(input_path):\n",
    "    return [\n",
    "        line[: line.index('|') - 1] \n",
    "        for line in open(input_path).readlines()\n",
    "    ]\n",
    "\n",
    "def get_outputs(input_path):\n",
    "    return [\n",
    "        line[line.index('|') + 2 : -1].split(' ')\n",
    "        for line in open(input_path).readlines()\n",
    "    ]\n",
    "\n",
    "def get_unique_digits(pattern):\n",
    "    digit_wires = {}\n",
    "    unique_len_digits = {len(digit_dict[digit]) : digit for digit in [1, 4, 7, 8]}\n",
    "    for digit in pattern:\n",
    "        # Check if length of digit is unique\n",
    "        # unique_len_digits (key : value) pairs: (length : corresponding digit)\n",
    "        if len(digit) in unique_len_digits.keys():\n",
    "            digit_wires[unique_len_digits[len(digit)]] = digit\n",
    "    return digit_wires\n",
    "\n",
    "def get_digit_wires(pattern):\n",
    "    digit_wires = get_unique_digits(pattern)\n",
    "    for digit in pattern:\n",
    "        # Check if length of digit is unique\n",
    "        # unique_len_digits (key : value) pairs: (length : corresponding digit)\n",
    "        if len(digit) in unique_len_digits.keys():\n",
    "            digit_wires[unique_len_digits[len(digit)]] = digit\n",
    "        if len(digit) == 6:\n",
    "            # set(digit).intersection(digit_wires[4]): shared wires between the iterated digit & digit 4\n",
    "            # digit with 6 wires that shares all four wires with wire 4 is only 9\n",
    "            if len(set(digit).intersection(digit_wires[4])) == 4:\n",
    "                digit_wires[9] = digit\n",
    "            # digit with 6 wires that shares both wires with wire 1 is only 0\n",
    "            elif len(set(digit).intersection(digit_wires[1])) == 2:\n",
    "                digit_wires[0] = digit\n",
    "            # Last six wire digit is 6\n",
    "            else:\n",
    "                digit_wires[6] = digit\n",
    "        elif len(digit) == 5:\n",
    "            if len(set(digit).intersection(digit_wires[7])) == 3:\n",
    "                digit_wires[3] = digit\n",
    "            elif len(set(digit).intersection(digit_wires[4])) == 3:\n",
    "                digit_wires[5] = digit\n",
    "            else:\n",
    "                digit_wires[2] = digit\n",
    "    return digit_wires\n",
    "    \n",
    "def match_wires_to_digit(wires_to_match, digit_wires):\n",
    "    for digit, wires_to_compare in digit_wires.items():\n",
    "        if (len(wires_to_match) == len(wires_to_compare)) and (\n",
    "            len(set(wires_to_match).intersection(wires_to_compare)) \n",
    "            == len(wires_to_compare)\n",
    "        ):\n",
    "            return digit\n",
    "\n",
    "def decode_output(output, digit_wires):\n",
    "    out_str = ''\n",
    "    for wire_str in output:\n",
    "        out_str += str(match_wires_to_digit(wire_str, digit_wires))\n",
    "    return int(out_str)\n",
    "\n",
    "def get_answer():\n",
    "    patterns = get_patterns('inputs/08-input.txt')\n",
    "    outputs = get_outputs('inputs/08-input.txt')\n",
    "    decoded_outputs = []\n",
    "    for pattern, output in zip(patterns, outputs):\n",
    "        digit_wires = get_digit_wires(pattern)\n",
    "        decoded_outputs.append(decode_output(output, digit_wires))\n",
    "    print('Answer:')\n",
    "    return sum(decoded_outputs)\n",
    "\n",
    "get_answer()\n",
    "    "
   ]
  },
  {
   "cell_type": "code",
   "execution_count": null,
   "metadata": {},
   "outputs": [],
   "source": []
  }
 ],
 "metadata": {
  "interpreter": {
   "hash": "1306c7966c5b96762b343d2f730514ade6724c2b2d933b4300f3eab56046fc91"
  },
  "kernelspec": {
   "display_name": "Python 3.9.5 64-bit (system)",
   "language": "python",
   "name": "python3"
  },
  "language_info": {
   "codemirror_mode": {
    "name": "ipython",
    "version": 3
   },
   "file_extension": ".py",
   "mimetype": "text/x-python",
   "name": "python",
   "nbconvert_exporter": "python",
   "pygments_lexer": "ipython3",
   "version": "3.9.5"
  },
  "orig_nbformat": 4
 },
 "nbformat": 4,
 "nbformat_minor": 2
}
