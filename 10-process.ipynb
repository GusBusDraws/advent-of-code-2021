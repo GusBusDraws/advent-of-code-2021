{
 "cells": [
  {
   "cell_type": "markdown",
   "metadata": {},
   "source": [
    "# --- Day 10: Syntax Scoring ---"
   ]
  },
  {
   "cell_type": "markdown",
   "metadata": {},
   "source": [
    "You ask the submarine to determine the best route out of the deep-sea cave, but it only replies:\n",
    "\n",
    "Syntax error in navigation subsystem on line: all of them\n",
    "All of them?! The damage is worse than you thought. You bring up a copy of the navigation subsystem (your puzzle input).\n",
    "\n",
    "The navigation subsystem syntax is made of several lines containing chunks. There are one or more chunks on each line, and chunks contain zero or more other chunks. Adjacent chunks are not separated by any delimiter; if one chunk stops, the next chunk (if any) can immediately start. Every chunk must open and close with one of four legal pairs of matching characters:\n",
    "\n",
    "- If a chunk opens with (, it must close with ).\n",
    "- If a chunk opens with [, it must close with ].\n",
    "- If a chunk opens with {, it must close with }.\n",
    "- If a chunk opens with <, it must close with >.\n",
    "\n",
    "So, `()` is a legal chunk that contains no other chunks, as is []. More complex but valid chunks include `([])`, `{()()()}`, `<([{}])>`, `[<>({}){}[([])<>]]`, and even `(((((((((())))))))))`.\n",
    "\n",
    "Some lines are incomplete, but others are corrupted. Find and discard the corrupted lines first.\n",
    "\n",
    "A corrupted line is one where a chunk closes with the wrong character - that is, where the characters it opens and closes with do not form one of the four legal pairs listed above.\n",
    "\n",
    "Examples of corrupted chunks include `(]`, `{()()()>`, `(((()))}`, and `<([]){()}[{}])`. Such a chunk can appear anywhere within a line, and its presence causes the whole line to be considered corrupted.\n",
    "\n",
    "For example, consider the following navigation subsystem:\n",
    "```\n",
    "[({(<(())[]>[[{[]{<()<>>\n",
    "[(()[<>])]({[<{<<[]>>(\n",
    "{([(<{}[<>[]}>{[]{[(<()>\n",
    "(((({<>}<{<{<>}{[]{[]{}\n",
    "[[<[([]))<([[{}[[()]]]\n",
    "[{[{({}]{}}([{[{{{}}([]\n",
    "{<[[]]>}<{[{[{[]{()[[[]\n",
    "[<(<(<(<{}))><([]([]()\n",
    "<{([([[(<>()){}]>(<<{{\n",
    "<{([{{}}[<[[[<>{}]]]>[]]\n",
    "```\n",
    "Some of the lines aren't corrupted, just incomplete; you can ignore these lines for now. The remaining five lines are corrupted:\n",
    "\n",
    "- `{([(<{}[<>[]}>{[]{[(<()>` - Expected `]`, but found `}` instead.\n",
    "- `[[<[([]))<([[{}[[()]]]` - Expected `]`, but found `)` instead.\n",
    "- `[{[{({}]{}}([{[{{{}}([]` - Expected `)`, but found `]` instead.\n",
    "- `[<(<(<(<{}))><([]([]()` - Expected `>`, but found `)` instead.\n",
    "- `<{([([[(<>()){}]>(<<{{` - Expected `]`, but found `>` instead.\n",
    "\n",
    "Stop at the first incorrect closing character on each corrupted line.\n",
    "\n",
    "Did you know that syntax checkers actually have contests to see who can get the high score for syntax errors in a file? It's true! To calculate the syntax error score for a line, take the first illegal character on the line and look it up in the following table:\n",
    "\n",
    "- `)`: 3 points.\n",
    "- `]`: 57 points.\n",
    "- `}`: 1197 points.\n",
    "- `>`: 25137 points.\n",
    "\n",
    "In the above example, an illegal `)` was found twice (2*3 = 6 points), an illegal `]` was found once (57 points), an illegal `}` was found once (1197 points), and an illegal `>` was found once (25137 points). So, the total syntax error score for this file is 6+57+1197+25137 = 26397 points!\n",
    "\n",
    "Find the first illegal character in each corrupted line of the navigation subsystem. **What is the total syntax error score for those errors?**"
   ]
  },
  {
   "cell_type": "markdown",
   "metadata": {},
   "source": [
    "## Process"
   ]
  },
  {
   "cell_type": "code",
   "execution_count": 1,
   "metadata": {},
   "outputs": [
    {
     "data": {
      "text/plain": [
       "'{([(<{}[<>[]}>{[]{[(<()>'"
      ]
     },
     "execution_count": 1,
     "metadata": {},
     "output_type": "execute_result"
    }
   ],
   "source": [
    "test_sub_0 = '{([(<{}[<>[]}>{[]{[(<()>'\n",
    "test_sub_0"
   ]
  },
  {
   "cell_type": "markdown",
   "metadata": {},
   "source": [
    "We have to have a way to know which character closes our chunks, so I'm thinking a dictionary would be a good, clear choice here."
   ]
  },
  {
   "cell_type": "code",
   "execution_count": 3,
   "metadata": {},
   "outputs": [],
   "source": [
    "expected = {\n",
    "    '(' : ')',\n",
    "    '[' : ']',\n",
    "    '{' : '}',\n",
    "    '<' : '>'\n",
    "}"
   ]
  },
  {
   "cell_type": "markdown",
   "metadata": {},
   "source": [
    "I think we need to keep track of which chunks/characters in a subsystem have been closed so that when we iterate through the subsystem and come across a closing character, we know where to look for a matching opening character."
   ]
  },
  {
   "cell_type": "code",
   "execution_count": 12,
   "metadata": {},
   "outputs": [
    {
     "data": {
      "text/plain": [
       "0"
      ]
     },
     "execution_count": 12,
     "metadata": {},
     "output_type": "execute_result"
    }
   ],
   "source": [
    "abc = ['a', 'b', 'c', 'a', 'd']\n",
    "abc.index('a')"
   ]
  },
  {
   "cell_type": "code",
   "execution_count": 13,
   "metadata": {},
   "outputs": [
    {
     "data": {
      "text/plain": [
       "['d', 'a', 'c', 'b', 'a']"
      ]
     },
     "execution_count": 13,
     "metadata": {},
     "output_type": "execute_result"
    }
   ],
   "source": [
    "abc[::-1]"
   ]
  },
  {
   "cell_type": "code",
   "execution_count": 14,
   "metadata": {},
   "outputs": [
    {
     "data": {
      "text/plain": [
       "1"
      ]
     },
     "execution_count": 14,
     "metadata": {},
     "output_type": "execute_result"
    }
   ],
   "source": [
    "abc[::-1].index('a')"
   ]
  },
  {
   "cell_type": "code",
   "execution_count": 20,
   "metadata": {},
   "outputs": [
    {
     "data": {
      "text/plain": [
       "'a'"
      ]
     },
     "execution_count": 20,
     "metadata": {},
     "output_type": "execute_result"
    }
   ],
   "source": [
    "# list[-1] gives the last item, so list[-(1 + n)] gives the n from last\n",
    "abc[-(1 + abc[::-1].index('a'))]"
   ]
  },
  {
   "cell_type": "code",
   "execution_count": 38,
   "metadata": {},
   "outputs": [],
   "source": [
    "def get_rightmost_idx(char, char_list):\n",
    "    idx_from_back = char_list[::-1].index(char)\n",
    "    return len(char_list) - 1 - idx_from_back"
   ]
  },
  {
   "cell_type": "code",
   "execution_count": 42,
   "metadata": {},
   "outputs": [
    {
     "data": {
      "text/plain": [
       "3"
      ]
     },
     "execution_count": 42,
     "metadata": {},
     "output_type": "execute_result"
    }
   ],
   "source": [
    "get_rightmost_idx('a', abc)"
   ]
  },
  {
   "cell_type": "code",
   "execution_count": 48,
   "metadata": {},
   "outputs": [
    {
     "name": "stdout",
     "output_type": "stream",
     "text": [
      "sub='{([(<{}[<>[]}>{[]{[(<()>'\n",
      "i=6\n",
      "sub[i]='}'\n",
      "rightmost_open_idx=5\n",
      "sub[rightmost_open_idx]='{'\n",
      "is_closed=[0, 0, 0, 0, 0, 1, 1]\n",
      "i=9\n",
      "sub[i]='>'\n",
      "rightmost_open_idx=8\n",
      "sub[rightmost_open_idx]='<'\n",
      "is_closed=[0, 0, 0, 0, 0, 1, 1, 0, 1, 1]\n",
      "i=11\n",
      "sub[i]=']'\n",
      "rightmost_open_idx=10\n",
      "sub[rightmost_open_idx]='['\n",
      "is_closed=[0, 0, 0, 0, 0, 1, 1, 0, 1, 1, 1, 1]\n",
      "i=12\n",
      "sub[i]='}'\n",
      "rightmost_open_idx=7\n",
      "sub[rightmost_open_idx]='['\n",
      "i=13\n",
      "sub[i]='>'\n",
      "rightmost_open_idx=7\n",
      "sub[rightmost_open_idx]='['\n",
      "i=16\n",
      "sub[i]=']'\n",
      "rightmost_open_idx=13\n",
      "sub[rightmost_open_idx]='>'\n"
     ]
    },
    {
     "ename": "KeyError",
     "evalue": "'>'",
     "output_type": "error",
     "traceback": [
      "\u001b[1;31m---------------------------------------------------------------------------\u001b[0m",
      "\u001b[1;31mKeyError\u001b[0m                                  Traceback (most recent call last)",
      "\u001b[1;32m~\\AppData\\Local\\Temp/ipykernel_5208/2107857248.py\u001b[0m in \u001b[0;36m<module>\u001b[1;34m\u001b[0m\n\u001b[0;32m     11\u001b[0m         \u001b[0mprint\u001b[0m\u001b[1;33m(\u001b[0m\u001b[1;34mf'{rightmost_open_idx=}'\u001b[0m\u001b[1;33m)\u001b[0m\u001b[1;33m\u001b[0m\u001b[1;33m\u001b[0m\u001b[0m\n\u001b[0;32m     12\u001b[0m         \u001b[0mprint\u001b[0m\u001b[1;33m(\u001b[0m\u001b[1;34mf'{sub[rightmost_open_idx]=}'\u001b[0m\u001b[1;33m)\u001b[0m\u001b[1;33m\u001b[0m\u001b[1;33m\u001b[0m\u001b[0m\n\u001b[1;32m---> 13\u001b[1;33m         \u001b[1;32mif\u001b[0m \u001b[0msub\u001b[0m\u001b[1;33m[\u001b[0m\u001b[0mi\u001b[0m\u001b[1;33m]\u001b[0m \u001b[1;33m==\u001b[0m \u001b[0mexpected\u001b[0m\u001b[1;33m[\u001b[0m\u001b[0msub\u001b[0m\u001b[1;33m[\u001b[0m\u001b[0mrightmost_open_idx\u001b[0m\u001b[1;33m]\u001b[0m\u001b[1;33m]\u001b[0m\u001b[1;33m:\u001b[0m\u001b[1;33m\u001b[0m\u001b[1;33m\u001b[0m\u001b[0m\n\u001b[0m\u001b[0;32m     14\u001b[0m             \u001b[0mis_closed\u001b[0m\u001b[1;33m[\u001b[0m\u001b[0mrightmost_open_idx\u001b[0m\u001b[1;33m]\u001b[0m \u001b[1;33m=\u001b[0m \u001b[1;36m1\u001b[0m\u001b[1;33m\u001b[0m\u001b[1;33m\u001b[0m\u001b[0m\n\u001b[0;32m     15\u001b[0m             \u001b[0mis_closed\u001b[0m\u001b[1;33m.\u001b[0m\u001b[0mappend\u001b[0m\u001b[1;33m(\u001b[0m\u001b[1;36m1\u001b[0m\u001b[1;33m)\u001b[0m\u001b[1;33m\u001b[0m\u001b[1;33m\u001b[0m\u001b[0m\n",
      "\u001b[1;31mKeyError\u001b[0m: '>'"
     ]
    }
   ],
   "source": [
    "sub = test_sub_03\n",
    "print(f'{sub=}')\n",
    "is_closed = []\n",
    "for i, char in enumerate(sub):\n",
    "    if char in expected.keys():\n",
    "        is_closed.append(0)\n",
    "    if char in expected.values():\n",
    "        rightmost_open_idx = get_rightmost_idx(0, is_closed)\n",
    "        print(f'{i=}')\n",
    "        print(f'{sub[i]=}')\n",
    "        print(f'{rightmost_open_idx=}')\n",
    "        print(f'{sub[rightmost_open_idx]=}')\n",
    "        if sub[i] == expected[sub[rightmost_open_idx]]:\n",
    "            is_closed[rightmost_open_idx] = 1\n",
    "            is_closed.append(1)\n",
    "            print(f'{is_closed=}')"
   ]
  }
 ],
 "metadata": {
  "interpreter": {
   "hash": "1306c7966c5b96762b343d2f730514ade6724c2b2d933b4300f3eab56046fc91"
  },
  "kernelspec": {
   "display_name": "Python 3.9.5 64-bit (system)",
   "language": "python",
   "name": "python3"
  },
  "language_info": {
   "codemirror_mode": {
    "name": "ipython",
    "version": 3
   },
   "file_extension": ".py",
   "mimetype": "text/x-python",
   "name": "python",
   "nbconvert_exporter": "python",
   "pygments_lexer": "ipython3",
   "version": "3.9.5"
  },
  "orig_nbformat": 4
 },
 "nbformat": 4,
 "nbformat_minor": 2
}
